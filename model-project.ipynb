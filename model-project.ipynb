{
 "cells": [
  {
   "cell_type": "markdown",
   "id": "3205642f-0fe6-4258-a2b6-5768f7cb9857",
   "metadata": {},
   "source": [
    "**In this project we solve a classical consumption-savings model with some manipulation of parameters**"
   ]
  },
  {
   "cell_type": "markdown",
   "id": "a7b0147f-b44d-496c-a077-3b5cc8cdf5e8",
   "metadata": {},
   "source": [
    "questions for Simon:\n",
    "1. how do I push from jupyter lab to Git Main vs master?\n",
    "2. how do you write headings in bold without numbering?"
   ]
  }
 ],
 "metadata": {
  "kernelspec": {
   "display_name": "Python 3 (ipykernel)",
   "language": "python",
   "name": "python3"
  },
  "language_info": {
   "codemirror_mode": {
    "name": "ipython",
    "version": 3
   },
   "file_extension": ".py",
   "mimetype": "text/x-python",
   "name": "python",
   "nbconvert_exporter": "python",
   "pygments_lexer": "ipython3",
   "version": "3.9.7"
  }
 },
 "nbformat": 4,
 "nbformat_minor": 5
}
