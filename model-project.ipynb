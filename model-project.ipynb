{
 "cells": [
  {
   "cell_type": "markdown",
   "id": "3205642f-0fe6-4258-a2b6-5768f7cb9857",
   "metadata": {},
   "source": [
    "**In this project we explore multi-period growth based on an extension of the Solow growth model and inlcuding human capital**"
   ]
  },
  {
   "cell_type": "markdown",
   "id": "a7b0147f-b44d-496c-a077-3b5cc8cdf5e8",
   "metadata": {},
   "source": [
    "questions for Simon:\n",
    "1. how do I push from jupyter lab to Git Main vs master?\n",
    "2. how do you write headings in bold without numbering?"
   ]
  },
  {
   "cell_type": "code",
   "execution_count": 5,
   "id": "118bfa93-51da-47c0-b68d-57ffa317c824",
   "metadata": {},
   "outputs": [],
   "source": [
    "from types import SimpleNamespace\n",
    "import time\n",
    "import numpy as np\n",
    "import scipy as sp\n",
    "from scipy import optimize\n",
    "from scipy import interpolate\n",
    "\n",
    "import matplotlib.pyplot as plt\n",
    "plt.style.use('seaborn-whitegrid')\n",
    "from matplotlib import cm\n",
    "from mpl_toolkits.mplot3d import Axes3D\n",
    "\n",
    "import model_project as mp #importing the python file"
   ]
  },
  {
   "cell_type": "markdown",
   "id": "b55a354e-707a-4d4c-9678-03c2a838eab7",
   "metadata": {},
   "source": [
    "# determining scipy optimizers to use"
   ]
  },
  {
   "cell_type": "markdown",
   "id": "7d1e29a0-a5ec-4714-93e1-c5db475c6fa3",
   "metadata": {},
   "source": [
    "1. Nelder-Mead\n",
    "Pro: Robust (to e.g. noise in objective function) and does not require derivatives.\n",
    "Con: Slow convergence. No bounds or constraints.\n",
    "\n",
    "used to solve multidimensional unconstrained optimization without derivatives\n",
    "\n",
    "2. SLSQP:\n",
    "Pro: Bounds and constraints in multiple dimensions.\n",
    "Con: Not as efficient as BFGS."
   ]
  },
  {
   "cell_type": "markdown",
   "id": "e90cca7a-acd4-4b5c-bc8a-3b0b89e6e1f2",
   "metadata": {},
   "source": [
    "# Selected consumer problem"
   ]
  },
  {
   "cell_type": "markdown",
   "id": "e3be93b5-c2df-472d-8ac8-33cc37622e7f",
   "metadata": {},
   "source": [
    "We have chosen to solve a solow growth model with human capital as an additional variable\n",
    "\n",
    "In this context, differences in country growth originates not only from different capital endowments but also from difference in physical (technology) and human capital (education and training). This idea has been put forward by scholars Mankiw, Romer, and Weil\n",
    "\n",
    "- possibly extend by e.g. alllowing for borrowing --> extend constraint"
   ]
  },
  {
   "cell_type": "markdown",
   "id": "3f3a171e-487f-4bb0-8ffa-59ecfc44e4ef",
   "metadata": {},
   "source": [
    "**variables** and **parameters**:\n",
    "\n",
    "* $m_t$ is cash-on-hand in period $t$\n",
    "* $c_t$ is consumption in period $t$\n",
    "* $y_t$ is income in period $t$\n",
    "* $\\Delta \\in (0,1)$ is income risk\n",
    "* $r$ is the interest rate\n",
    "* $\\beta > 0$, $\\rho > 1$, $\\nu > 0 $, $\\kappa > 0$, $\\xi > 0$ are utility parameters"
   ]
  },
  {
   "cell_type": "markdown",
   "id": "68ea84a2-ff31-4aa4-9704-720e233c1aa9",
   "metadata": {},
   "source": [
    "Analytical solution"
   ]
  },
  {
   "cell_type": "markdown",
   "id": "1b2db177-5f2b-4dcc-87ab-de2095071a3a",
   "metadata": {},
   "source": [
    "Numerical solution"
   ]
  },
  {
   "cell_type": "code",
   "execution_count": null,
   "id": "498d2033-b826-46a7-aca1-809aba441ae7",
   "metadata": {},
   "outputs": [],
   "source": []
  }
 ],
 "metadata": {
  "kernelspec": {
   "display_name": "Python 3 (ipykernel)",
   "language": "python",
   "name": "python3"
  },
  "language_info": {
   "codemirror_mode": {
    "name": "ipython",
    "version": 3
   },
   "file_extension": ".py",
   "mimetype": "text/x-python",
   "name": "python",
   "nbconvert_exporter": "python",
   "pygments_lexer": "ipython3",
   "version": "3.9.7"
  }
 },
 "nbformat": 4,
 "nbformat_minor": 5
}
